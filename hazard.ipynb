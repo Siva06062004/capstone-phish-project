{
 "cells": [
  {
   "cell_type": "code",
   "execution_count": 1,
   "metadata": {},
   "outputs": [],
   "source": [
    "# Import essential libraries\n",
    "import pandas as pd\n",
    "import numpy as np\n",
    "from sklearn.model_selection import train_test_split\n",
    "from sklearn.feature_extraction.text import TfidfVectorizer\n",
    "from sklearn.svm import SVC\n",
    "from sklearn.ensemble import RandomForestClassifier\n",
    "\n",
    "from sklearn.metrics import classification_report, accuracy_score, confusion_matrix\n",
    "from sklearn.model_selection import cross_val_score\n",
    "import io\n",
    "import seaborn as sns #plot graph in graphical manner\n",
    "import matplotlib.pyplot as plt #to plot graph\n",
    "import warnings\n",
    "import joblib\n",
    "warnings.filterwarnings(\"ignore\", category=UserWarning, module=\"pandas\")\n",
    "#pip install --upgrade numexpr"
   ]
  },
  {
   "cell_type": "code",
   "execution_count": 2,
   "metadata": {},
   "outputs": [],
   "source": [
    "#Loading the data to pandas Dataframe(Structure of Dataset)\n",
    "hazard_data=pd.read_csv('hazard.csv')\n"
   ]
  },
  {
   "cell_type": "code",
   "execution_count": 3,
   "metadata": {},
   "outputs": [
    {
     "data": {
      "text/html": [
       "<div>\n",
       "<style scoped>\n",
       "    .dataframe tbody tr th:only-of-type {\n",
       "        vertical-align: middle;\n",
       "    }\n",
       "\n",
       "    .dataframe tbody tr th {\n",
       "        vertical-align: top;\n",
       "    }\n",
       "\n",
       "    .dataframe thead th {\n",
       "        text-align: right;\n",
       "    }\n",
       "</style>\n",
       "<table border=\"1\" class=\"dataframe\">\n",
       "  <thead>\n",
       "    <tr style=\"text-align: right;\">\n",
       "      <th></th>\n",
       "      <th>url</th>\n",
       "      <th>type</th>\n",
       "    </tr>\n",
       "  </thead>\n",
       "  <tbody>\n",
       "    <tr>\n",
       "      <th>0</th>\n",
       "      <td>br-icloud.com.br</td>\n",
       "      <td>phishing</td>\n",
       "    </tr>\n",
       "    <tr>\n",
       "      <th>1</th>\n",
       "      <td>http://www.garage-pirenne.be/index.php?option=...</td>\n",
       "      <td>defacement</td>\n",
       "    </tr>\n",
       "    <tr>\n",
       "      <th>2</th>\n",
       "      <td>http://adventure-nicaragua.net/index.php?optio...</td>\n",
       "      <td>defacement</td>\n",
       "    </tr>\n",
       "    <tr>\n",
       "      <th>3</th>\n",
       "      <td>http://buzzfil.net/m/show-art/ils-etaient-loin...</td>\n",
       "      <td>benign</td>\n",
       "    </tr>\n",
       "    <tr>\n",
       "      <th>4</th>\n",
       "      <td>espn.go.com/nba/player/_/id/3457/brandon-rush</td>\n",
       "      <td>benign</td>\n",
       "    </tr>\n",
       "  </tbody>\n",
       "</table>\n",
       "</div>"
      ],
      "text/plain": [
       "                                                 url        type\n",
       "0                                   br-icloud.com.br    phishing\n",
       "1  http://www.garage-pirenne.be/index.php?option=...  defacement\n",
       "2  http://adventure-nicaragua.net/index.php?optio...  defacement\n",
       "3  http://buzzfil.net/m/show-art/ils-etaient-loin...      benign\n",
       "4      espn.go.com/nba/player/_/id/3457/brandon-rush      benign"
      ]
     },
     "execution_count": 3,
     "metadata": {},
     "output_type": "execute_result"
    }
   ],
   "source": [
    "hazard_data.head()"
   ]
  },
  {
   "cell_type": "code",
   "execution_count": 4,
   "metadata": {},
   "outputs": [
    {
     "name": "stdout",
     "output_type": "stream",
     "text": [
      "<class 'pandas.core.frame.DataFrame'>\n",
      "RangeIndex: 20222 entries, 0 to 20221\n",
      "Data columns (total 2 columns):\n",
      " #   Column  Non-Null Count  Dtype \n",
      "---  ------  --------------  ----- \n",
      " 0   url     20222 non-null  object\n",
      " 1   type    20222 non-null  object\n",
      "dtypes: object(2)\n",
      "memory usage: 316.1+ KB\n"
     ]
    }
   ],
   "source": [
    "hazard_data.info()"
   ]
  },
  {
   "cell_type": "code",
   "execution_count": 5,
   "metadata": {},
   "outputs": [
    {
     "data": {
      "text/plain": [
       "(20222, 2)"
      ]
     },
     "execution_count": 5,
     "metadata": {},
     "output_type": "execute_result"
    }
   ],
   "source": [
    "hazard_data.shape"
   ]
  },
  {
   "cell_type": "code",
   "execution_count": 6,
   "metadata": {},
   "outputs": [
    {
     "data": {
      "text/plain": [
       "url     0\n",
       "type    0\n",
       "dtype: int64"
      ]
     },
     "execution_count": 6,
     "metadata": {},
     "output_type": "execute_result"
    }
   ],
   "source": [
    "hazard_data.isnull().sum()"
   ]
  },
  {
   "cell_type": "code",
   "execution_count": 7,
   "metadata": {},
   "outputs": [],
   "source": [
    "hazard_data = hazard_data.dropna()"
   ]
  },
  {
   "cell_type": "code",
   "execution_count": 8,
   "metadata": {},
   "outputs": [
    {
     "data": {
      "text/plain": [
       "url     0\n",
       "type    0\n",
       "dtype: int64"
      ]
     },
     "execution_count": 8,
     "metadata": {},
     "output_type": "execute_result"
    }
   ],
   "source": [
    "hazard_data.isnull().sum()"
   ]
  },
  {
   "cell_type": "code",
   "execution_count": 9,
   "metadata": {},
   "outputs": [
    {
     "data": {
      "text/plain": [
       "<Axes: xlabel='type', ylabel='count'>"
      ]
     },
     "execution_count": 9,
     "metadata": {},
     "output_type": "execute_result"
    },
    {
     "data": {
      "image/png": "[encoded data removed]",
      "text/plain": [
       "<Figure size 640x480 with 1 Axes>"
      ]
     },
     "metadata": {},
     "output_type": "display_data"
    }
   ],
   "source": [
    "#Data Visualization\n",
    "sns.countplot(x = 'type',data = hazard_data)"
   ]
  },
  {
   "cell_type": "code",
   "execution_count": 10,
   "metadata": {},
   "outputs": [
    {
     "data": {
      "text/plain": [
       "type\n",
       "benign        13307\n",
       "defacement     3361\n",
       "phishing       1905\n",
       "malware        1649\n",
       "Name: count, dtype: int64"
      ]
     },
     "execution_count": 10,
     "metadata": {},
     "output_type": "execute_result"
    }
   ],
   "source": [
    "hazard_data['type'].value_counts()"
   ]
  },
  {
   "cell_type": "code",
   "execution_count": 11,
   "metadata": {},
   "outputs": [
    {
     "name": "stdout",
     "output_type": "stream",
     "text": [
      "<bound method NDFrame.head of                                                      url  type\n",
      "0                                       br-icloud.com.br     0\n",
      "1      http://www.garage-pirenne.be/index.php?option=...     2\n",
      "2      http://adventure-nicaragua.net/index.php?optio...     2\n",
      "3      http://buzzfil.net/m/show-art/ils-etaient-loin...     1\n",
      "4          espn.go.com/nba/player/_/id/3457/brandon-rush     1\n",
      "...                                                  ...   ...\n",
      "20217                  http://112.17.123.56:43506/Mozi.m     3\n",
      "20218                  http://124.67.89.238:48336/Mozi.m     3\n",
      "20219                 http://221.210.211.13:59932/Mozi.m     3\n",
      "20220                   http://172.45.28.36:55258/Mozi.m     3\n",
      "20221                 http://219.157.146.65:51504/Mozi.m     3\n",
      "\n",
      "[20222 rows x 2 columns]>\n"
     ]
    }
   ],
   "source": [
    "hazard_data['type'] = hazard_data['type'].map({'phishing': 0, 'benign': 1,'defacement': 2,'malware' : 3}).astype(int)\n",
    "print(hazard_data.head)"
   ]
  },
  {
   "cell_type": "code",
   "execution_count": 12,
   "metadata": {},
   "outputs": [
    {
     "name": "stdout",
     "output_type": "stream",
     "text": [
      "0                                         br-icloud.com.br\n",
      "1        http://www.garage-pirenne.be/index.php?option=...\n",
      "2        http://adventure-nicaragua.net/index.php?optio...\n",
      "3        http://buzzfil.net/m/show-art/ils-etaient-loin...\n",
      "4            espn.go.com/nba/player/_/id/3457/brandon-rush\n",
      "                               ...                        \n",
      "20217                    http://112.17.123.56:43506/Mozi.m\n",
      "20218                    http://124.67.89.238:48336/Mozi.m\n",
      "20219                   http://221.210.211.13:59932/Mozi.m\n",
      "20220                     http://172.45.28.36:55258/Mozi.m\n",
      "20221                   http://219.157.146.65:51504/Mozi.m\n",
      "Name: url, Length: 20222, dtype: object\n",
      "0        0\n",
      "1        2\n",
      "2        2\n",
      "3        1\n",
      "4        1\n",
      "        ..\n",
      "20217    3\n",
      "20218    3\n",
      "20219    3\n",
      "20220    3\n",
      "20221    3\n",
      "Name: type, Length: 20222, dtype: int32\n"
     ]
    }
   ],
   "source": [
    "hazard_data = hazard_data.dropna(subset=['url', 'type'])  # Drop rows with NaN in text or label\n",
    "X = hazard_data['url']  # Feature column\n",
    "Y = hazard_data['type']  # Target column\n",
    "print(X)\n",
    "print(Y)"
   ]
  },
  {
   "cell_type": "code",
   "execution_count": 13,
   "metadata": {},
   "outputs": [],
   "source": [
    "#X_train,X_test,Y_train,Y_test=train_test_split(X,Y,test_size=0.3,stratify=Y,random_state=2)\n",
    "X_train, X_test, Y_train, Y_test = train_test_split(X, Y, test_size=0.2, random_state=42)\n",
    "Y_train = Y_train.to_numpy()"
   ]
  },
  {
   "cell_type": "code",
   "execution_count": 14,
   "metadata": {},
   "outputs": [
    {
     "name": "stdout",
     "output_type": "stream",
     "text": [
      "(20222,) (16177,) (4045,)\n",
      "16177 16177\n"
     ]
    }
   ],
   "source": [
    "print(X.shape, X_train.shape,X_test.shape)\n",
    "\n",
    "print(len(X_train), len(Y_train))  # These should be the same\n",
    "\n",
    "\n"
   ]
  },
  {
   "cell_type": "code",
   "execution_count": 15,
   "metadata": {},
   "outputs": [],
   "source": [
    "# Step 2: Convert Text to Numerical Data\n",
    "# Use TfidfVectorizer to transform text data\n",
    "vectorizer = TfidfVectorizer(max_features=5000)  # Adjust max_features as needed\n",
    "X_train_vectorized = vectorizer.fit_transform(X_train)\n",
    "X_test_vectorized = vectorizer.transform(X_test)\n",
    "\n"
   ]
  },
  {
   "cell_type": "code",
   "execution_count": 16,
   "metadata": {},
   "outputs": [
    {
     "name": "stdout",
     "output_type": "stream",
     "text": [
      "(16177, 5000)\n",
      "(16177,)\n"
     ]
    }
   ],
   "source": [
    "print(X_train_vectorized.shape)  # Should return something like (number_of_samples, number_of_features)\n",
    "print(Y_train.shape)  "
   ]
  },
  {
   "cell_type": "code",
   "execution_count": 17,
   "metadata": {},
   "outputs": [
    {
     "name": "stdout",
     "output_type": "stream",
     "text": [
      "X_train size: (16177,)\n",
      "Y_train size: (16177,)\n"
     ]
    }
   ],
   "source": [
    "print(\"X_train size:\", X_train.shape)\n",
    "print(\"Y_train size:\", Y_train.shape)"
   ]
  },
  {
   "cell_type": "code",
   "execution_count": 18,
   "metadata": {},
   "outputs": [
    {
     "name": "stdout",
     "output_type": "stream",
     "text": [
      "Model fitted successfully\n"
     ]
    }
   ],
   "source": [
    "# Train Random Forest Classifier\n",
    "try:\n",
    "    model = RandomForestClassifier()\n",
    "    model.fit(X_train_vectorized, Y_train)\n",
    "    print(\"Model fitted successfully\")\n",
    "except Exception as e:\n",
    "    print(f\"Error occurred during model fitting: {e}\")\n",
    "    "
   ]
  },
  {
   "cell_type": "code",
   "execution_count": 19,
   "metadata": {},
   "outputs": [
    {
     "name": "stdout",
     "output_type": "stream",
     "text": [
      "(16177, 5000)\n",
      "(16177,)\n"
     ]
    }
   ],
   "source": [
    "print(X_train_vectorized.shape)  # Should return something like (number_of_samples, number_of_features)\n",
    "print(Y_train.shape) "
   ]
  },
  {
   "cell_type": "code",
   "execution_count": 20,
   "metadata": {},
   "outputs": [],
   "source": [
    "Y_pred_rf = model.predict(X_test_vectorized)"
   ]
  },
  {
   "cell_type": "code",
   "execution_count": 21,
   "metadata": {},
   "outputs": [
    {
     "name": "stdout",
     "output_type": "stream",
     "text": [
      "Length of predictions: 4045\n",
      "First few predictions: [1 1 1 1 2 0 1 1 1 1]\n"
     ]
    }
   ],
   "source": [
    "print(\"Length of predictions:\", len(Y_pred_rf))\n",
    "print(\"First few predictions:\", Y_pred_rf[:10])"
   ]
  },
  {
   "cell_type": "code",
   "execution_count": 22,
   "metadata": {},
   "outputs": [
    {
     "name": "stdout",
     "output_type": "stream",
     "text": [
      "Accuracy of the Random Forest model: 0.95\n",
      "Classification Report:\n",
      "              precision    recall  f1-score   support\n",
      "\n",
      "           0       0.91      0.63      0.74       394\n",
      "           1       0.95      0.99      0.97      2647\n",
      "           2       0.94      0.98      0.96       670\n",
      "           3       0.97      0.91      0.94       334\n",
      "\n",
      "    accuracy                           0.95      4045\n",
      "   macro avg       0.94      0.88      0.90      4045\n",
      "weighted avg       0.94      0.95      0.94      4045\n",
      "\n"
     ]
    }
   ],
   "source": [
    "acc = accuracy_score(Y_test, Y_pred_rf)\n",
    "print(f\"Accuracy of the Random Forest model: {acc:.2f}\")\n",
    "\n",
    "# Classification report\n",
    "print(\"Classification Report:\")\n",
    "print(classification_report(Y_test, Y_pred_rf))"
   ]
  },
  {
   "cell_type": "code",
   "execution_count": 23,
   "metadata": {},
   "outputs": [
    {
     "data": {
      "image/png": "[encoded data removed]",
      "text/plain": [
       "<Figure size 640x480 with 2 Axes>"
      ]
     },
     "metadata": {},
     "output_type": "display_data"
    }
   ],
   "source": [
    "# Confusion matrix visualization\n",
    "cm = confusion_matrix(Y_test, Y_pred_rf)\n",
    "sns.heatmap(cm, annot=True, fmt='d', cmap='Blues', xticklabels=['malware', 'benign','defacement','phishing'], yticklabels=['malware', 'benign','defacement','phishing'])\n",
    "plt.title('Confusion Matrix')\n",
    "plt.xlabel('Predicted')\n",
    "plt.ylabel('True')\n",
    "plt.show()"
   ]
  },
  {
   "cell_type": "code",
   "execution_count": 24,
   "metadata": {},
   "outputs": [
    {
     "name": "stdout",
     "output_type": "stream",
     "text": [
      "Accuracy: 0.95\n"
     ]
    }
   ],
   "source": [
    "from sklearn.svm import SVC\n",
    "from sklearn.metrics import accuracy_score\n",
    "\n",
    "# Create an instance of the SVM classifier\n",
    "svm_model = SVC()\n",
    "\n",
    "# Train the SVM model using the training data (X_train and Y_train)\n",
    "svm_model.fit(X_train_vectorized, Y_train)\n",
    "\n",
    "# Make predictions on the test set (X_test)\n",
    "Y_pred_svm = svm_model.predict(X_test_vectorized)\n",
    "\n",
    "# Calculate the accuracy score by comparing the predicted labels with the actual labels\n",
    "accuracy = accuracy_score(Y_test, Y_pred_svm)\n",
    "\n",
    "print(f\"Accuracy: {accuracy:.2f}\")\n"
   ]
  },
  {
   "cell_type": "code",
   "execution_count": 25,
   "metadata": {},
   "outputs": [
    {
     "name": "stdout",
     "output_type": "stream",
     "text": [
      "\n",
      "Classification Report:\n",
      "              precision    recall  f1-score   support\n",
      "\n",
      "           0       0.94      0.61      0.74       394\n",
      "           1       0.94      0.99      0.97      2647\n",
      "           2       0.96      0.99      0.97       670\n",
      "           3       0.99      0.91      0.95       334\n",
      "\n",
      "    accuracy                           0.95      4045\n",
      "   macro avg       0.96      0.88      0.91      4045\n",
      "weighted avg       0.95      0.95      0.95      4045\n",
      "\n"
     ]
    },
    {
     "data": {
      "image/png": "[encoded data removed]",
      "text/plain": [
       "<Figure size 640x480 with 2 Axes>"
      ]
     },
     "metadata": {},
     "output_type": "display_data"
    }
   ],
   "source": [
    "print(\"\\nClassification Report:\")\n",
    "print(classification_report(Y_test, Y_pred_svm))\n",
    "\n",
    "# Confusion matrix visualization\n",
    "cm = confusion_matrix(Y_test, Y_pred_svm)\n",
    "sns.heatmap(cm, annot=True, fmt='d', cmap='Blues', xticklabels=['malware', 'benign','defacement','phishing'], yticklabels=['malware', 'benign','defacement','phishing'])\n",
    "plt.title('Confusion Matrix')\n",
    "plt.xlabel('Predicted')\n",
    "plt.ylabel('True')\n",
    "plt.show()"
   ]
  },
  {
   "cell_type": "code",
   "execution_count": 26,
   "metadata": {},
   "outputs": [
    {
     "name": "stdout",
     "output_type": "stream",
     "text": [
      "Accuracy: 0.92\n"
     ]
    }
   ],
   "source": [
    "from sklearn.tree import DecisionTreeClassifier\n",
    "tree_clf = DecisionTreeClassifier(criterion='gini', max_depth=10, random_state=42)  # Adjust max_depth\n",
    "\n",
    "# Train the model\n",
    "tree_clf.fit(X_train_vectorized, Y_train)\n",
    "\n",
    "# Make predictions on the test set\n",
    "y_pred_DT = tree_clf.predict(X_test_vectorized)\n",
    "\n",
    "# Evaluate the model\n",
    "accuracy1 = accuracy_score(Y_test, y_pred_DT)\n",
    "print(f\"Accuracy: {accuracy1:.2f}\")"
   ]
  },
  {
   "cell_type": "code",
   "execution_count": 27,
   "metadata": {},
   "outputs": [
    {
     "data": {
      "image/png": "[encoded data removed]",
      "text/plain": [
       "<Figure size 640x480 with 1 Axes>"
      ]
     },
     "metadata": {},
     "output_type": "display_data"
    }
   ],
   "source": [
    "import matplotlib.pyplot as plt \n",
    "  \n",
    "# x-coordinates of left sides of bars  \n",
    "left = [1,2,3] \n",
    "  \n",
    "# heights of bars \n",
    "height = [acc,accuracy,accuracy1] \n",
    "  \n",
    "# labels for bars \n",
    "tick_label = ['Random Forest', 'Support Vector','Decision Tree'] \n",
    "  \n",
    "# plotting a bar chart \n",
    "plt.bar(left, height, tick_label = tick_label, \n",
    "        width = 0.8, color = ['blue', 'green','Orange']) \n",
    "  \n",
    "# naming the x-axis \n",
    "plt.xlabel('Algorithms') \n",
    "# naming the y-axis \n",
    "plt.ylabel('Accuracy in %') \n",
    "# plot title \n",
    "plt.title('Performance Comparison') \n",
    "  \n",
    "# function to show the plot \n",
    "plt.show() "
   ]
  },
  {
   "cell_type": "markdown",
   "metadata": {},
   "source": [
    "# Model\n"
   ]
  },
  {
   "cell_type": "code",
   "execution_count": 28,
   "metadata": {},
   "outputs": [
    {
     "data": {
      "text/plain": [
       "['vectorizer.pkl']"
      ]
     },
     "execution_count": 28,
     "metadata": {},
     "output_type": "execute_result"
    }
   ],
   "source": [
    "# Save models and vectorizer\n",
    "\n",
    "joblib.dump(svm_model, 'support_vector.pkl')\n",
    "joblib.dump(vectorizer, 'vectorizer.pkl')\n"
   ]
  },
  {
   "cell_type": "code",
   "execution_count": null,
   "metadata": {},
   "outputs": [],
   "source": [
    "import joblib\n",
    "\n",
    "# Load the saved model and vectorizer\n",
    "vectorizer = joblib.load('vectorizer.pkl')\n",
    "model = joblib.load('support_vector.pkl')  # Use the desired model\n",
    "\n",
    "def predict_hazard(input_text, model, vectorizer):\n",
    "    # Transform the input text\n",
    "    input_features = vectorizer.transform([input_text])\n",
    "    prediction = model.predict(input_features)[0]\n",
    "    \n",
    "    # Correct label mapping\n",
    "    label_map = {\n",
    "        0: \"phishing\",\n",
    "        1: \"benign\",\n",
    "        2: \"defacement\",\n",
    "        3: \"malware\"\n",
    "    }\n",
    "    \n",
    "    # Return the mapped result\n",
    "    return label_map.get(prediction, \"Unknown Prediction\")  # Default to \"Unknown Prediction\" for unmapped values\n",
    "\n",
    "# Accept input and predict\n",
    "user_text = input(\"Enter URL: \")\n",
    "result = predict_hazard(user_text, model, vectorizer)\n",
    "print(f\"Prediction: {result}\")\n"
   ]
  },
  {
   "cell_type": "code",
   "execution_count": null,
   "metadata": {},
   "outputs": [],
   "source": []
  }
 ],
 "metadata": {
  "kernelspec": {
   "display_name": "Python [conda env:base] *",
   "language": "python",
   "name": "conda-base-py"
  },
  "language_info": {
   "codemirror_mode": {
    "name": "ipython",
    "version": 3
   },
   "file_extension": ".py",
   "mimetype": "text/x-python",
   "name": "python",
   "nbconvert_exporter": "python",
   "pygments_lexer": "ipython3",
   "version": "3.12.7"
  }
 },
 "nbformat": 4,
 "nbformat_minor": 4
}
